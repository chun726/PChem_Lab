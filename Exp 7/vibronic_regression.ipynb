{
  "nbformat": 4,
  "nbformat_minor": 0,
  "metadata": {
    "colab": {
      "provenance": []
    },
    "kernelspec": {
      "name": "python3",
      "display_name": "Python 3"
    },
    "language_info": {
      "name": "python"
    }
  },
  "cells": [
    {
      "cell_type": "code",
      "execution_count": 2,
      "metadata": {
        "colab": {
          "base_uri": "https://localhost:8080/",
          "height": 452
        },
        "id": "OvBh2Bi_K6y1",
        "outputId": "d8a29b40-4414-4319-9278-ac289f65ac7a"
      },
      "outputs": [
        {
          "output_type": "display_data",
          "data": {
            "text/plain": [
              "<Figure size 640x480 with 1 Axes>"
            ],
            "image/png": "[encoded data removed]"
          },
          "metadata": {}
        }
      ],
      "source": [
        "import matplotlib.pyplot as plt\n",
        "\n",
        "delta_g = [110.8, 105.3, 105.3, 105.2, 102.5, 108.0, 99.8, 99.7, 102.5, 102.5, 99.7, 91.4, 110.4, 86.3, 91.4, 88.7, 67.9, 85.9, 99.7, 80.3, 94.1, 74.8, 77.5, 72.1, 71.9, 69.3, 66.5, 66.5, 60.7, 61.2, 63.7, 52.6, 55.4, 52.6, 52.7, 49.8, 44.4, 44.3, 41.5, 41.6, 38.8]\n",
        "v = [(i + 0.5) for i in range(5, 46)]\n",
        "\n",
        "plt.scatter(v, delta_g, color = 'forestgreen', s = 15)\n",
        "plt.title(\"Before regression\")\n",
        "plt.show()\n"
      ]
    },
    {
      "cell_type": "code",
      "source": [
        "import tensorflow as tf\n",
        "import numpy as np\n",
        "\n",
        "print(tf.__version__)"
      ],
      "metadata": {
        "colab": {
          "base_uri": "https://localhost:8080/"
        },
        "id": "ARbDoX8nLHTn",
        "outputId": "e82f59cb-c8bb-4c4e-adf1-119aaac0cf53"
      },
      "execution_count": 4,
      "outputs": [
        {
          "output_type": "stream",
          "name": "stdout",
          "text": [
            "2.12.0\n"
          ]
        }
      ]
    },
    {
      "cell_type": "code",
      "source": [
        "# Convert to numpy arrays and reshape\n",
        "v = np.array(v).reshape((-1, 1))\n",
        "delta_g = np.array(delta_g).reshape((-1, 1))\n",
        "\n",
        "#TensorFlow graph\n",
        "model = tf.keras.Sequential([\n",
        "    tf.keras.layers.Dense(units=1, input_shape=[1], kernel_initializer='glorot_uniform', bias_initializer='glorot_uniform')\n",
        "])\n",
        "\n",
        "#Loss function and the optimizer\n",
        "loss_fn = tf.keras.losses.MeanSquaredError()\n",
        "lr_schedule = tf.keras.optimizers.schedules.ExponentialDecay(\n",
        "    initial_learning_rate=0.15,\n",
        "    decay_steps=1000,\n",
        "    decay_rate=0.9\n",
        ")\n",
        "optimizer = tf.keras.optimizers.Adam(learning_rate=lr_schedule)"
      ],
      "metadata": {
        "id": "Z0huXI9uLRLl"
      },
      "execution_count": 24,
      "outputs": []
    },
    {
      "cell_type": "code",
      "source": [
        "# Train the model\n",
        "model.compile(loss=loss_fn, optimizer=optimizer, metrics=['mse'])\n",
        "for epoch in range(3001):\n",
        "    loss, mse = model.train_on_batch(v, delta_g)\n",
        "    if epoch % 300 == 0:\n",
        "        w, b = model.get_weights()\n",
        "        print('Epoch %d: w = %f, b = %f, loss = %f' % (epoch, w[0][0], b[0], loss))\n",
        "\n",
        "# Print the final weights and biases\n",
        "w, b = model.get_weights()\n",
        "print('w =', w[0][0])\n",
        "print('b =', b[0])\n",
        "\n"
      ],
      "metadata": {
        "colab": {
          "base_uri": "https://localhost:8080/"
        },
        "id": "SEeJVPp_LWel",
        "outputId": "45c0c297-62af-40cc-9c3f-26c566cec7d4"
      },
      "execution_count": 25,
      "outputs": [
        {
          "output_type": "stream",
          "name": "stdout",
          "text": [
            "Epoch 0: w = 0.027739, b = 1.553442, loss = 6791.050293\n",
            "Epoch 300: w = 1.101497, b = 33.966816, loss = 1498.178711\n",
            "Epoch 600: w = 0.126990, b = 64.065819, loss = 690.083862\n",
            "Epoch 900: w = -0.621725, b = 87.216003, loss = 287.158478\n",
            "Epoch 1200: w = -1.147255, b = 103.470871, loss = 117.918816\n",
            "Epoch 1500: w = -1.481742, b = 113.818001, loss = 59.069370\n",
            "Epoch 1800: w = -1.671996, b = 119.703629, loss = 42.573822\n",
            "Epoch 2100: w = -1.767400, b = 122.655075, loss = 38.940975\n",
            "Epoch 2400: w = -1.809071, b = 123.944214, loss = 38.327457\n",
            "Epoch 2700: w = -1.824726, b = 124.428505, loss = 38.250027\n",
            "Epoch 3000: w = -1.829711, b = 124.582741, loss = 38.242939\n",
            "w = -1.8297113\n",
            "b = 124.58274\n"
          ]
        }
      ]
    },
    {
      "cell_type": "code",
      "source": [
        "# Compute the R-squared value\n",
        "y_pred = model.predict(v)\n",
        "ss_residual = np.sum((delta_g - y_pred)**2)\n",
        "ss_total = np.sum((delta_g - np.mean(delta_g))**2)\n",
        "r_squared = 1 - (ss_residual / ss_total)\n",
        "print('R-squared:', r_squared)"
      ],
      "metadata": {
        "colab": {
          "base_uri": "https://localhost:8080/"
        },
        "id": "-4GOE6_QLaDF",
        "outputId": "2b07858b-cf42-4618-d854-a376cd1cf5c7"
      },
      "execution_count": 27,
      "outputs": [
        {
          "output_type": "stream",
          "name": "stdout",
          "text": [
            "2/2 [==============================] - 0s 12ms/step\n",
            "R-squared: 0.9246880777096362\n"
          ]
        }
      ]
    }
  ]
}